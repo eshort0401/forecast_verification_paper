{
 "cells": [
  {
   "cell_type": "code",
   "execution_count": 1,
   "metadata": {
    "ExecuteTime": {
     "end_time": "2020-02-11T03:36:29.409632Z",
     "start_time": "2020-02-11T03:36:29.392431Z"
    }
   },
   "outputs": [],
   "source": [
    "import pyproj as pp"
   ]
  },
  {
   "cell_type": "code",
   "execution_count": 2,
   "metadata": {
    "ExecuteTime": {
     "end_time": "2020-02-11T03:37:16.848798Z",
     "start_time": "2020-02-11T03:37:16.845904Z"
    }
   },
   "outputs": [],
   "source": [
    "p = pp.Geod(ellps='WGS84')"
   ]
  },
  {
   "cell_type": "code",
   "execution_count": 20,
   "metadata": {
    "ExecuteTime": {
     "end_time": "2020-02-11T03:53:01.203776Z",
     "start_time": "2020-02-11T03:53:01.198588Z"
    }
   },
   "outputs": [],
   "source": [
    "a, b = p.fwd(50, 50, 90, 50*10**3, radians=False)[0:2]"
   ]
  },
  {
   "cell_type": "code",
   "execution_count": 21,
   "metadata": {
    "ExecuteTime": {
     "end_time": "2020-02-11T03:53:05.277853Z",
     "start_time": "2020-02-11T03:53:05.266530Z"
    }
   },
   "outputs": [
    {
     "data": {
      "text/plain": [
       "50.69737116334565"
      ]
     },
     "execution_count": 21,
     "metadata": {},
     "output_type": "execute_result"
    }
   ],
   "source": [
    "a"
   ]
  },
  {
   "cell_type": "code",
   "execution_count": 7,
   "metadata": {
    "ExecuteTime": {
     "end_time": "2020-02-11T03:46:17.014457Z",
     "start_time": "2020-02-11T03:46:16.997509Z"
    }
   },
   "outputs": [],
   "source": [
    "perth_ap_lon = 115.98\n",
    "perth_ap_lat = -31.93\n",
    "\n",
    "darwin_ap_lon = 130.89\n",
    "darwin_ap_lat = -12.42\n",
    "\n",
    "adelaide_ap_lon = 138.52\n",
    "adelaide_ap_lat = -34.95\n",
    "\n",
    "melbourne_ap_lon = 144.83\n",
    "melbourne_ap_lat = -37.67\n",
    "\n",
    "hobart_ap_lon = 147.50\n",
    "hobart_ap_lat = -42.83\n",
    "\n",
    "sydney_ap_lon = 151.21\n",
    "sydney_ap_lat = -33.86\n",
    "\n",
    "brisbane_ap_lon = 153.13\n",
    "brisbane_ap_lat = -27.39"
   ]
  },
  {
   "cell_type": "code",
   "execution_count": 24,
   "metadata": {
    "ExecuteTime": {
     "end_time": "2020-02-11T03:59:40.228364Z",
     "start_time": "2020-02-11T03:59:40.219738Z"
    }
   },
   "outputs": [],
   "source": [
    "ranges = []\n",
    "for source in ['perth', 'darwin', 'adelaide', 'melbourne', 'hobart', 'sydney', 'brisbane']:\n",
    "    lon_min = p.fwd(eval(source+'_ap_lon'), eval(source+'_ap_lat'), 90, -50*10**3, radians=False)[0]\n",
    "    lon_max = p.fwd(eval(source+'_ap_lon'), eval(source+'_ap_lat'), 90, 50*10**3, radians=False)[0]\n",
    "    lat_min = p.fwd(eval(source+'_ap_lon'), eval(source+'_ap_lat'), 0, -50*10**3, radians=False)[1]\n",
    "    lat_max = p.fwd(eval(source+'_ap_lon'), eval(source+'_ap_lat'), 0, 50*10**3, radians=False)[1]\n",
    "    ranges.append([(lon_min,lon_max), (lat_min, lat_max)])"
   ]
  },
  {
   "cell_type": "code",
   "execution_count": 25,
   "metadata": {
    "ExecuteTime": {
     "end_time": "2020-02-11T03:59:40.698015Z",
     "start_time": "2020-02-11T03:59:40.690854Z"
    }
   },
   "outputs": [
    {
     "data": {
      "text/plain": [
       "[[(115.45126657558421, 116.5087334244158),\n",
       "  (-32.38089917251629, -31.479068778464324)],\n",
       " [(130.4301506195222, 131.34984938047776),\n",
       "  (-12.871967107138682, -11.96801784861322)],\n",
       " [(137.97262212974059, 139.06737787025943),\n",
       "  (-35.400678669413296, -34.49928782627987)],\n",
       " [(144.2632714554108, 145.39672854458922),\n",
       "  (-38.120472785113364, -37.219492720084034)],\n",
       " [(146.88850517438874, 148.11149482561126),\n",
       "  (-43.280070084571165, -42.379894404400915)],\n",
       " [(150.66967513299718, 151.75032486700283),\n",
       "  (-34.31075935757531, -33.40920762089955)],\n",
       " [(152.62449368440562, 153.63550631559437),\n",
       "  (-27.841209441685198, -26.938761366420486)]]"
      ]
     },
     "execution_count": 25,
     "metadata": {},
     "output_type": "execute_result"
    }
   ],
   "source": [
    "ranges"
   ]
  },
  {
   "cell_type": "code",
   "execution_count": null,
   "metadata": {},
   "outputs": [],
   "source": []
  }
 ],
 "metadata": {
  "kernelspec": {
   "display_name": "Python 3",
   "language": "python",
   "name": "python3"
  },
  "language_info": {
   "codemirror_mode": {
    "name": "ipython",
    "version": 3
   },
   "file_extension": ".py",
   "mimetype": "text/x-python",
   "name": "python",
   "nbconvert_exporter": "python",
   "pygments_lexer": "ipython3",
   "version": "3.6.8"
  },
  "toc": {
   "base_numbering": 1,
   "nav_menu": {},
   "number_sections": true,
   "sideBar": true,
   "skip_h1_title": false,
   "title_cell": "Table of Contents",
   "title_sidebar": "Contents",
   "toc_cell": false,
   "toc_position": {},
   "toc_section_display": true,
   "toc_window_display": false
  }
 },
 "nbformat": 4,
 "nbformat_minor": 2
}
